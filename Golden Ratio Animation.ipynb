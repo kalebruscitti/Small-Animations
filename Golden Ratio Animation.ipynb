{
 "cells": [
  {
   "cell_type": "code",
   "execution_count": 38,
   "metadata": {
    "collapsed": false
   },
   "outputs": [],
   "source": [
    "import numpy as np\n",
    "import matplotlib.pyplot as plt\n",
    "import matplotlib.animation as animation\n",
    "import pylab\n",
    "\n",
    "\n",
    "fib=[1,1]\n",
    "\n",
    "\n",
    "def data_gen(x=0):\n",
    "    cnt = 0\n",
    "    while cnt < 12:\n",
    "        cnt += 1\n",
    "        x += 1\n",
    "        fib_next = fib[x] + fib[x-1]\n",
    "        fib.append(fib_next)\n",
    "        yield x, fib[x] / fib[x-1]\n",
    "fig, ax = plt.subplots()\n",
    "line, = ax.plot([], [], 'o',lw=2,)\n",
    "pylab.xlabel('Fibonacci Number')\n",
    "pylab.ylabel('Ratio of Current Number / Previous Number')\n",
    "pylab.title('Demonstration of the Golden Ratio')\n",
    "ax.grid()\n",
    "xdata = []\n",
    "ydata =[]\n",
    "x_2 = pylab.linspace(0,14,100)\n",
    "pylab.plot([0,27], [1.61803398875,1.61803398875], 'k--')\n",
    "pylab.annotate('Golden Ratio', xy=(2, 1.618), xytext=(2.4, 1.62))\n",
    "\n",
    "def init():\n",
    "    ax.set_ylim(1.45, 1.8)\n",
    "    ax.set_xlim(2, 13)\n",
    "    del xdata[:]\n",
    "    del ydata[:]\n",
    "    line.set_data(xdata, ydata)\n",
    "    return line,\n",
    "\n",
    "\n",
    "def run (data):\n",
    "    #update the data\n",
    "    t, y = data\n",
    "    xdata.append(t)\n",
    "    ydata.append(y)\n",
    "    xmin, xmax = ax.get_xlim()\n",
    "    if t >= xmax:\n",
    "        ax.set_xlim(xmin, 2*xmax)\n",
    "        ax.figure.canvas.draw()\n",
    "    line.set_data(xdata, ydata)\n",
    "    return line,\n",
    "\n",
    "\n",
    "ani = animation.FuncAnimation(fig, run, data_gen, blit=False, interval=1000,\n",
    "                              repeat=False, init_func=init)\n",
    "plt.show()"
   ]
  },
  {
   "cell_type": "code",
   "execution_count": null,
   "metadata": {
    "collapsed": true
   },
   "outputs": [],
   "source": []
  },
  {
   "cell_type": "code",
   "execution_count": null,
   "metadata": {
    "collapsed": true
   },
   "outputs": [],
   "source": []
  }
 ],
 "metadata": {
  "kernelspec": {
   "display_name": "Python [py3]",
   "language": "python",
   "name": "Python [py3]"
  },
  "language_info": {
   "codemirror_mode": {
    "name": "ipython",
    "version": 3
   },
   "file_extension": ".py",
   "mimetype": "text/x-python",
   "name": "python",
   "nbconvert_exporter": "python",
   "pygments_lexer": "ipython3",
   "version": "3.5.2"
  }
 },
 "nbformat": 4,
 "nbformat_minor": 0
}
